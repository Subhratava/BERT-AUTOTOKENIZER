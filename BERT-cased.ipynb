{
 "cells": [
  {
   "cell_type": "code",
   "execution_count": 2,
   "id": "fad07fcf-57f5-4b2b-bee6-e2a3619f1a51",
   "metadata": {},
   "outputs": [
    {
     "name": "stderr",
     "output_type": "stream",
     "text": [
      "C:\\Users\\MSI\\AppData\\Local\\Programs\\Python\\Python312\\Lib\\site-packages\\tqdm\\auto.py:21: TqdmWarning: IProgress not found. Please update jupyter and ipywidgets. See https://ipywidgets.readthedocs.io/en/stable/user_install.html\n",
      "  from .autonotebook import tqdm as notebook_tqdm\n",
      "None of PyTorch, TensorFlow >= 2.0, or Flax have been found. Models won't be available and only tokenizers, configuration and file/data utilities can be used.\n"
     ]
    }
   ],
   "source": [
    "from transformers import AutoTokenizer\n",
    "import pickle\n"
   ]
  },
  {
   "cell_type": "code",
   "execution_count": 1,
   "id": "81bccb2e-e50f-49fc-97f1-c0145feccaf8",
   "metadata": {},
   "outputs": [
    {
     "name": "stderr",
     "output_type": "stream",
     "text": [
      "C:\\Users\\MSI\\AppData\\Local\\Programs\\Python\\Python312\\Lib\\site-packages\\tqdm\\auto.py:21: TqdmWarning: IProgress not found. Please update jupyter and ipywidgets. See https://ipywidgets.readthedocs.io/en/stable/user_install.html\n",
      "  from .autonotebook import tqdm as notebook_tqdm\n",
      "None of PyTorch, TensorFlow >= 2.0, or Flax have been found. Models won't be available and only tokenizers, configuration and file/data utilities can be used.\n",
      "Downloading: 100%|██████████████████████████████████████████████████████████████████████████| 49.0/49.0 [00:00<?, ?B/s]\n",
      "Downloading: 100%|████████████████████████████████████████████████████████████████████████████| 570/570 [00:00<?, ?B/s]\n",
      "Downloading: 100%|███████████████████████████████████████████████████████████████████| 208k/208k [00:01<00:00, 129kB/s]\n",
      "Downloading: 100%|███████████████████████████████████████████████████████████████████| 426k/426k [00:02<00:00, 181kB/s]\n"
     ]
    },
    {
     "name": "stdout",
     "output_type": "stream",
     "text": [
      "Tokenizer has been pickled and saved as 'bert_base_cased_tokenizer.pkl'.\n"
     ]
    }
   ],
   "source": [
    "\n",
    "# Step 1: Initialize the tokenizer for 'bert-base-cased'\n",
    "tokenizer = AutoTokenizer.from_pretrained('bert-base-cased')\n",
    "\n",
    "# Step 2: Pickle the tokenizer for later use\n",
    "with open('bert_base_cased_tokenizer.pkl', 'wb') as f:\n",
    "    pickle.dump(tokenizer, f)\n",
    "\n",
    "print(\"Tokenizer has been pickled and saved as 'bert_base_cased_tokenizer.pkl'.\")\n"
   ]
  },
  {
   "cell_type": "code",
   "execution_count": 3,
   "id": "c01f8279-de92-4e5e-a79c-9a086f92245f",
   "metadata": {},
   "outputs": [
    {
     "name": "stdout",
     "output_type": "stream",
     "text": [
      "Tokenized output: ['This', 'is', 'a', 'test', 'sentence', '.']\n"
     ]
    }
   ],
   "source": [
    "# Step 1: Load the pickled tokenizer\n",
    "with open('bert_base_cased_tokenizer.pkl', 'rb') as f:\n",
    "    loaded_tokenizer = pickle.load(f)\n",
    "\n",
    "# Step 2: Verify by tokenizing a sample text\n",
    "sample_text = \"This is a test sentence.\"\n",
    "tokenized_output = loaded_tokenizer.tokenize(sample_text)\n",
    "\n",
    "print(\"Tokenized output:\", tokenized_output)\n"
   ]
  },
  {
   "cell_type": "code",
   "execution_count": null,
   "id": "5ef62775-d2e0-456d-a299-05aef9be8ba5",
   "metadata": {},
   "outputs": [],
   "source": []
  }
 ],
 "metadata": {
  "kernelspec": {
   "display_name": "Python 3 (ipykernel)",
   "language": "python",
   "name": "python3"
  },
  "language_info": {
   "codemirror_mode": {
    "name": "ipython",
    "version": 3
   },
   "file_extension": ".py",
   "mimetype": "text/x-python",
   "name": "python",
   "nbconvert_exporter": "python",
   "pygments_lexer": "ipython3",
   "version": "3.12.2"
  }
 },
 "nbformat": 4,
 "nbformat_minor": 5
}
